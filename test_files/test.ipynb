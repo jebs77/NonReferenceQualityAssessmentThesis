{
 "cells": [
  {
   "cell_type": "code",
   "execution_count": 22,
   "metadata": {},
   "outputs": [
    {
     "name": "stdout",
     "output_type": "stream",
     "text": [
      "10.149024277196872\n"
     ]
    }
   ],
   "source": [
    "import numpy as np\n",
    "\n",
    "mu, sigma = 12.25, 7.445/10 # mean and standard deviation\n",
    "s = np.random.normal(mu, sigma, 300)\n",
    "print(min(s))"
   ]
  }
 ],
 "metadata": {
  "kernelspec": {
   "display_name": "gpu_env",
   "language": "python",
   "name": "python3"
  },
  "language_info": {
   "codemirror_mode": {
    "name": "ipython",
    "version": 3
   },
   "file_extension": ".py",
   "mimetype": "text/x-python",
   "name": "python",
   "nbconvert_exporter": "python",
   "pygments_lexer": "ipython3",
   "version": "3.11.5"
  }
 },
 "nbformat": 4,
 "nbformat_minor": 2
}
